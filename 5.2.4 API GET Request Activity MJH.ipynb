{
 "cells": [
  {
   "cell_type": "markdown",
   "id": "ea8d5a69",
   "metadata": {},
   "source": [
    "# 5.2.4 Making a Get Request to an API"
   ]
  },
  {
   "cell_type": "markdown",
   "id": "25806808",
   "metadata": {},
   "source": [
    "### Prepare the workstation"
   ]
  },
  {
   "cell_type": "code",
   "execution_count": 1,
   "id": "4f0061dc",
   "metadata": {},
   "outputs": [],
   "source": [
    "# Install JSON and requests.\n",
    "# !pip install json\n",
    "# !pip install requests"
   ]
  },
  {
   "cell_type": "code",
   "execution_count": 2,
   "id": "5cf41664",
   "metadata": {},
   "outputs": [],
   "source": [
    "# Import libraries.\n",
    "import requests\n",
    "import json"
   ]
  },
  {
   "cell_type": "markdown",
   "id": "afcabbef",
   "metadata": {},
   "source": [
    "### 1. Bitcoin Price Index"
   ]
  },
  {
   "cell_type": "markdown",
   "id": "e6d70cb1",
   "metadata": {},
   "source": [
    "Extablish a connection"
   ]
  },
  {
   "cell_type": "code",
   "execution_count": 21,
   "id": "b61f99f9",
   "metadata": {},
   "outputs": [
    {
     "name": "stdout",
     "output_type": "stream",
     "text": [
      "200\n",
      "{'time': {'updated': 'Jun 28, 2022 21:34:00 UTC', 'updatedISO': '2022-06-28T21:34:00+00:00', 'updateduk': 'Jun 28, 2022 at 22:34 BST'}, 'disclaimer': 'This data was produced from the CoinDesk Bitcoin Price Index (USD). Non-USD currency data converted using hourly conversion rate from openexchangerates.org', 'chartName': 'Bitcoin', 'bpi': {'USD': {'code': 'USD', 'symbol': '&#36;', 'rate': '20,338.6035', 'description': 'United States Dollar', 'rate_float': 20338.6035}, 'GBP': {'code': 'GBP', 'symbol': '&pound;', 'rate': '16,513.2986', 'description': 'British Pound Sterling', 'rate_float': 16513.2986}, 'EUR': {'code': 'EUR', 'symbol': '&euro;', 'rate': '19,333.2663', 'description': 'Euro', 'rate_float': 19333.2663}}}\n"
     ]
    }
   ],
   "source": [
    "# Create a requests variable.\n",
    "bitcoin = requests.get('https://api.coindesk.com/v1/bpi/currentprice.json')\n",
    "   \n",
    "# Print the status_code.\n",
    "print(bitcoin.status_code)\n",
    "\n",
    "# Print the JSON response.\n",
    "print(bitcoin.json())"
   ]
  },
  {
   "cell_type": "markdown",
   "id": "7da62ddd",
   "metadata": {},
   "source": [
    "Retrieve the headers"
   ]
  },
  {
   "cell_type": "code",
   "execution_count": 22,
   "id": "3f721af4",
   "metadata": {},
   "outputs": [
    {
     "data": {
      "text/plain": [
       "{'Content-Type': 'application/javascript', 'Content-Length': '679', 'Connection': 'keep-alive', 'Access-Control-Allow-Origin': '*', 'Cache-Control': 'max-age=15', 'Date': 'Tue, 28 Jun 2022 21:34:39 GMT', 'Expires': 'Tue, 28 Jun 2022 21:35:07 UTC', 'Server': 'nginx/1.18.0', 'X-Powered-By': 'Fat-Free Framework', 'X-Cache': 'Hit from cloudfront', 'Via': '1.1 ee8862e43d7837ef5478becfe2eb7116.cloudfront.net (CloudFront)', 'X-Amz-Cf-Pop': 'LHR50-P1', 'X-Amz-Cf-Id': 'l9R3hV7GSgejVkf4K6LiEEJM8-rEHXjuStRIHhpW8NNlyUnooZAbbw==', 'Age': '2'}"
      ]
     },
     "execution_count": 22,
     "metadata": {},
     "output_type": "execute_result"
    }
   ],
   "source": [
    "# Retrieve the headers.\n",
    "bitcoin.headers"
   ]
  },
  {
   "cell_type": "markdown",
   "id": "e13fc38f",
   "metadata": {},
   "source": [
    "Parse the JSON data"
   ]
  },
  {
   "cell_type": "code",
   "execution_count": 24,
   "id": "d98a7b46",
   "metadata": {},
   "outputs": [
    {
     "name": "stdout",
     "output_type": "stream",
     "text": [
      "<class 'dict'>\n"
     ]
    },
    {
     "data": {
      "text/plain": [
       "{'time': {'updated': 'Jun 28, 2022 21:34:00 UTC',\n",
       "  'updatedISO': '2022-06-28T21:34:00+00:00',\n",
       "  'updateduk': 'Jun 28, 2022 at 22:34 BST'},\n",
       " 'disclaimer': 'This data was produced from the CoinDesk Bitcoin Price Index (USD). Non-USD currency data converted using hourly conversion rate from openexchangerates.org',\n",
       " 'chartName': 'Bitcoin',\n",
       " 'bpi': {'USD': {'code': 'USD',\n",
       "   'symbol': '&#36;',\n",
       "   'rate': '20,338.6035',\n",
       "   'description': 'United States Dollar',\n",
       "   'rate_float': 20338.6035},\n",
       "  'GBP': {'code': 'GBP',\n",
       "   'symbol': '&pound;',\n",
       "   'rate': '16,513.2986',\n",
       "   'description': 'British Pound Sterling',\n",
       "   'rate_float': 16513.2986},\n",
       "  'EUR': {'code': 'EUR',\n",
       "   'symbol': '&euro;',\n",
       "   'rate': '19,333.2663',\n",
       "   'description': 'Euro',\n",
       "   'rate_float': 19333.2663}}}"
      ]
     },
     "execution_count": 24,
     "metadata": {},
     "output_type": "execute_result"
    }
   ],
   "source": [
    "# Parse JSON data with loads().\n",
    "bitcoin_content = json.loads(bitcoin.text)\n",
    "\n",
    "# View the content.\n",
    "print(type(bitcoin_content))\n",
    "bitcoin_content"
   ]
  },
  {
   "cell_type": "code",
   "execution_count": 8,
   "id": "557bd0c4",
   "metadata": {},
   "outputs": [
    {
     "name": "stdout",
     "output_type": "stream",
     "text": [
      "<class 'requests.models.Response'>\n"
     ]
    }
   ],
   "source": [
    "# Type of content\n",
    "print(type(bitcoin_response))"
   ]
  },
  {
   "cell_type": "code",
   "execution_count": 25,
   "id": "b79bb393",
   "metadata": {},
   "outputs": [
    {
     "name": "stdout",
     "output_type": "stream",
     "text": [
      "<class 'dict'>\n",
      "{'time': {'updated': 'Jun 28, 2022 21:34:00 UTC', 'updatedISO': '2022-06-28T21:34:00+00:00', 'updateduk': 'Jun 28, 2022 at 22:34 BST'}, 'disclaimer': 'This data was produced from the CoinDesk Bitcoin Price Index (USD). Non-USD currency data converted using hourly conversion rate from openexchangerates.org', 'chartName': 'Bitcoin', 'bpi': {'USD': {'code': 'USD', 'symbol': '&#36;', 'rate': '20,338.6035', 'description': 'United States Dollar', 'rate_float': 20338.6035}, 'GBP': {'code': 'GBP', 'symbol': '&pound;', 'rate': '16,513.2986', 'description': 'British Pound Sterling', 'rate_float': 16513.2986}, 'EUR': {'code': 'EUR', 'symbol': '&euro;', 'rate': '19,333.2663', 'description': 'Euro', 'rate_float': 19333.2663}}}\n"
     ]
    }
   ],
   "source": [
    "# Try this code snippet and compare the output.\n",
    "# View the content.\n",
    "print(type(bitcoin_content))\n",
    "print(bitcoin_content)"
   ]
  },
  {
   "cell_type": "code",
   "execution_count": 10,
   "id": "094dadf9",
   "metadata": {},
   "outputs": [
    {
     "name": "stdout",
     "output_type": "stream",
     "text": [
      "<class 'str'>\n",
      "{\"time\":{\"updated\":\"Jun 28, 2022 21:16:00 UTC\",\"updatedISO\":\"2022-06-28T21:16:00+00:00\",\"updateduk\":\"Jun 28, 2022 at 22:16 BST\"},\"disclaimer\":\"This data was produced from the CoinDesk Bitcoin Price Index (USD). Non-USD currency data converted using hourly conversion rate from openexchangerates.org\",\"chartName\":\"Bitcoin\",\"bpi\":{\"USD\":{\"code\":\"USD\",\"symbol\":\"&#36;\",\"rate\":\"20,311.6375\",\"description\":\"United States Dollar\",\"rate_float\":20311.6375},\"GBP\":{\"code\":\"GBP\",\"symbol\":\"&pound;\",\"rate\":\"16,491.4044\",\"description\":\"British Pound Sterling\",\"rate_float\":16491.4044},\"EUR\":{\"code\":\"EUR\",\"symbol\":\"&euro;\",\"rate\":\"19,307.6332\",\"description\":\"Euro\",\"rate_float\":19307.6332}}}\n"
     ]
    }
   ],
   "source": [
    "# Get the information again from the API\n",
    "bit_r = requests.get(url=bitcoin_URL)\n",
    "\n",
    "# View the information\n",
    "print(type(bit_r.text))\n",
    "print(bit_r.text)"
   ]
  },
  {
   "cell_type": "code",
   "execution_count": 26,
   "id": "e029476f",
   "metadata": {},
   "outputs": [
    {
     "name": "stdout",
     "output_type": "stream",
     "text": [
      "{\n",
      "    \"time\": {\n",
      "        \"updated\": \"Jun 28, 2022 21:34:00 UTC\",\n",
      "        \"updatedISO\": \"2022-06-28T21:34:00+00:00\",\n",
      "        \"updateduk\": \"Jun 28, 2022 at 22:34 BST\"\n",
      "    },\n",
      "    \"disclaimer\": \"This data was produced from the CoinDesk Bitcoin Price Index (USD). Non-USD currency data converted using hourly conversion rate from openexchangerates.org\",\n",
      "    \"chartName\": \"Bitcoin\",\n",
      "    \"bpi\": {\n",
      "        \"USD\": {\n",
      "            \"code\": \"USD\",\n",
      "            \"symbol\": \"&#36;\",\n",
      "            \"rate\": \"20,338.6035\",\n",
      "            \"description\": \"United States Dollar\",\n",
      "            \"rate_float\": 20338.6035\n",
      "        },\n",
      "        \"GBP\": {\n",
      "            \"code\": \"GBP\",\n",
      "            \"symbol\": \"&pound;\",\n",
      "            \"rate\": \"16,513.2986\",\n",
      "            \"description\": \"British Pound Sterling\",\n",
      "            \"rate_float\": 16513.2986\n",
      "        },\n",
      "        \"EUR\": {\n",
      "            \"code\": \"EUR\",\n",
      "            \"symbol\": \"&euro;\",\n",
      "            \"rate\": \"19,333.2663\",\n",
      "            \"description\": \"Euro\",\n",
      "            \"rate_float\": 19333.2663\n",
      "        }\n",
      "    }\n",
      "}\n"
     ]
    }
   ],
   "source": [
    "# Formatting JSON.\n",
    "print(json.dumps(bitcoin_content, indent=4))"
   ]
  },
  {
   "cell_type": "code",
   "execution_count": 27,
   "id": "379b4e29",
   "metadata": {},
   "outputs": [
    {
     "name": "stdout",
     "output_type": "stream",
     "text": [
      "{\n",
      "    \"time\": {\n",
      "        \"updated\": \"Jun 28, 2022 21:16:00 UTC\",\n",
      "        \"updatedISO\": \"2022-06-28T21:16:00+00:00\",\n",
      "        \"updateduk\": \"Jun 28, 2022 at 22:16 BST\"\n",
      "    },\n",
      "    \"disclaimer\": \"This data was produced from the CoinDesk Bitcoin Price Index (USD). Non-USD currency data converted using hourly conversion rate from openexchangerates.org\",\n",
      "    \"chartName\": \"Bitcoin\",\n",
      "    \"bpi\": {\n",
      "        \"USD\": {\n",
      "            \"code\": \"USD\",\n",
      "            \"symbol\": \"&#36;\",\n",
      "            \"rate\": \"20,311.6375\",\n",
      "            \"description\": \"United States Dollar\",\n",
      "            \"rate_float\": 20311.6375\n",
      "        },\n",
      "        \"GBP\": {\n",
      "            \"code\": \"GBP\",\n",
      "            \"symbol\": \"&pound;\",\n",
      "            \"rate\": \"16,491.4044\",\n",
      "            \"description\": \"British Pound Sterling\",\n",
      "            \"rate_float\": 16491.4044\n",
      "        },\n",
      "        \"EUR\": {\n",
      "            \"code\": \"EUR\",\n",
      "            \"symbol\": \"&euro;\",\n",
      "            \"rate\": \"19,307.6332\",\n",
      "            \"description\": \"Euro\",\n",
      "            \"rate_float\": 19307.6332\n",
      "        }\n",
      "    }\n",
      "}\n"
     ]
    }
   ],
   "source": [
    "# Format the JSON with an indent of 4\n",
    "print(json.dumps(bit_content, indent=4))"
   ]
  },
  {
   "cell_type": "code",
   "execution_count": 28,
   "id": "a3e22842",
   "metadata": {},
   "outputs": [],
   "source": [
    "import pandas as pd"
   ]
  },
  {
   "cell_type": "code",
   "execution_count": 29,
   "id": "7cdc1278",
   "metadata": {},
   "outputs": [
    {
     "data": {
      "text/html": [
       "<div>\n",
       "<style scoped>\n",
       "    .dataframe tbody tr th:only-of-type {\n",
       "        vertical-align: middle;\n",
       "    }\n",
       "\n",
       "    .dataframe tbody tr th {\n",
       "        vertical-align: top;\n",
       "    }\n",
       "\n",
       "    .dataframe thead th {\n",
       "        text-align: right;\n",
       "    }\n",
       "</style>\n",
       "<table border=\"1\" class=\"dataframe\">\n",
       "  <thead>\n",
       "    <tr style=\"text-align: right;\">\n",
       "      <th></th>\n",
       "      <th>time</th>\n",
       "      <th>disclaimer</th>\n",
       "      <th>chartName</th>\n",
       "      <th>bpi</th>\n",
       "    </tr>\n",
       "  </thead>\n",
       "  <tbody>\n",
       "    <tr>\n",
       "      <th>updated</th>\n",
       "      <td>Jun 28, 2022 21:34:00 UTC</td>\n",
       "      <td>This data was produced from the CoinDesk Bitco...</td>\n",
       "      <td>Bitcoin</td>\n",
       "      <td>NaN</td>\n",
       "    </tr>\n",
       "    <tr>\n",
       "      <th>updatedISO</th>\n",
       "      <td>2022-06-28T21:34:00+00:00</td>\n",
       "      <td>This data was produced from the CoinDesk Bitco...</td>\n",
       "      <td>Bitcoin</td>\n",
       "      <td>NaN</td>\n",
       "    </tr>\n",
       "    <tr>\n",
       "      <th>updateduk</th>\n",
       "      <td>Jun 28, 2022 at 22:34 BST</td>\n",
       "      <td>This data was produced from the CoinDesk Bitco...</td>\n",
       "      <td>Bitcoin</td>\n",
       "      <td>NaN</td>\n",
       "    </tr>\n",
       "    <tr>\n",
       "      <th>USD</th>\n",
       "      <td>NaN</td>\n",
       "      <td>This data was produced from the CoinDesk Bitco...</td>\n",
       "      <td>Bitcoin</td>\n",
       "      <td>{'code': 'USD', 'symbol': '&amp;#36;', 'rate': '20...</td>\n",
       "    </tr>\n",
       "    <tr>\n",
       "      <th>GBP</th>\n",
       "      <td>NaN</td>\n",
       "      <td>This data was produced from the CoinDesk Bitco...</td>\n",
       "      <td>Bitcoin</td>\n",
       "      <td>{'code': 'GBP', 'symbol': '&amp;pound;', 'rate': '...</td>\n",
       "    </tr>\n",
       "  </tbody>\n",
       "</table>\n",
       "</div>"
      ],
      "text/plain": [
       "                                 time  \\\n",
       "updated     Jun 28, 2022 21:34:00 UTC   \n",
       "updatedISO  2022-06-28T21:34:00+00:00   \n",
       "updateduk   Jun 28, 2022 at 22:34 BST   \n",
       "USD                               NaN   \n",
       "GBP                               NaN   \n",
       "\n",
       "                                                   disclaimer chartName  \\\n",
       "updated     This data was produced from the CoinDesk Bitco...   Bitcoin   \n",
       "updatedISO  This data was produced from the CoinDesk Bitco...   Bitcoin   \n",
       "updateduk   This data was produced from the CoinDesk Bitco...   Bitcoin   \n",
       "USD         This data was produced from the CoinDesk Bitco...   Bitcoin   \n",
       "GBP         This data was produced from the CoinDesk Bitco...   Bitcoin   \n",
       "\n",
       "                                                          bpi  \n",
       "updated                                                   NaN  \n",
       "updatedISO                                                NaN  \n",
       "updateduk                                                 NaN  \n",
       "USD         {'code': 'USD', 'symbol': '&#36;', 'rate': '20...  \n",
       "GBP         {'code': 'GBP', 'symbol': '&pound;', 'rate': '...  "
      ]
     },
     "execution_count": 29,
     "metadata": {},
     "output_type": "execute_result"
    }
   ],
   "source": [
    "# Create a DataFrame directly from the output.\n",
    "bitcoin_df = pd.DataFrame(bitcoin_content)\n",
    "\n",
    "# View the DataFrame.\n",
    "bitcoin_df.head()"
   ]
  },
  {
   "cell_type": "code",
   "execution_count": 32,
   "id": "635f9159",
   "metadata": {
    "scrolled": false
   },
   "outputs": [],
   "source": [
    "# Save the JSON file to .json.\n",
    "# Create a JSON file.\n",
    "bitcoin_json = json.dumps(bitcoin_content)\n",
    "\n",
    "\n",
    "with open('bitcoin_json.json', 'w') as f:\n",
    "    json.dump(bitcoin_content, f)\n",
    "    \n",
    "# Save as a CSV file without index.\n",
    "pd.read_json(bitcoin_json).to_csv('bitcoin_csv.csv', index=False)"
   ]
  },
  {
   "cell_type": "markdown",
   "id": "e8c2a480",
   "metadata": {},
   "source": [
    "## USA Population Data"
   ]
  },
  {
   "cell_type": "code",
   "execution_count": 33,
   "id": "234f5cde",
   "metadata": {},
   "outputs": [],
   "source": [
    "# Import the necessary libraries.\n",
    "import requests\n",
    "import json\n",
    "import pandas as pd"
   ]
  },
  {
   "cell_type": "code",
   "execution_count": 34,
   "id": "ffea3069",
   "metadata": {},
   "outputs": [
    {
     "name": "stdout",
     "output_type": "stream",
     "text": [
      "200\n",
      "{'data': [{'ID Nation': '01000US', 'Nation': 'United States', 'ID Year': 2019, 'Year': '2019', 'Population': 328239523, 'Slug Nation': 'united-states'}, {'ID Nation': '01000US', 'Nation': 'United States', 'ID Year': 2018, 'Year': '2018', 'Population': 327167439, 'Slug Nation': 'united-states'}, {'ID Nation': '01000US', 'Nation': 'United States', 'ID Year': 2017, 'Year': '2017', 'Population': 325719178, 'Slug Nation': 'united-states'}, {'ID Nation': '01000US', 'Nation': 'United States', 'ID Year': 2016, 'Year': '2016', 'Population': 323127515, 'Slug Nation': 'united-states'}, {'ID Nation': '01000US', 'Nation': 'United States', 'ID Year': 2015, 'Year': '2015', 'Population': 321418821, 'Slug Nation': 'united-states'}, {'ID Nation': '01000US', 'Nation': 'United States', 'ID Year': 2014, 'Year': '2014', 'Population': 318857056, 'Slug Nation': 'united-states'}, {'ID Nation': '01000US', 'Nation': 'United States', 'ID Year': 2013, 'Year': '2013', 'Population': 316128839, 'Slug Nation': 'united-states'}], 'source': [{'measures': ['Population'], 'annotations': {'source_name': 'Census Bureau', 'source_description': 'The American Community Survey (ACS) is conducted by the US Census and sent to a portion of the population every year.', 'dataset_name': 'ACS 1-year Estimate', 'dataset_link': 'http://www.census.gov/programs-surveys/acs/', 'table_id': 'B01003', 'topic': 'Diversity', 'subtopic': 'Demographics'}, 'name': 'acs_yg_total_population_1', 'substitutions': []}]}\n"
     ]
    }
   ],
   "source": [
    "# Create a requests variable.\n",
    "pop = requests.get('https://datausa.io/api/data?drilldowns=Nation&measures=Population')\n",
    "   \n",
    "# Print the status_code.\n",
    "print(pop.status_code)\n",
    "\n",
    "# Print the JSON response.\n",
    "print(pop.json())"
   ]
  },
  {
   "cell_type": "code",
   "execution_count": 35,
   "id": "ad3b21ef",
   "metadata": {},
   "outputs": [
    {
     "data": {
      "text/plain": [
       "{'Date': 'Tue, 28 Jun 2022 21:52:35 GMT', 'Content-Type': 'application/json; charset=utf-8', 'Transfer-Encoding': 'chunked', 'Connection': 'keep-alive', 'x-dns-prefetch-control': 'off', 'strict-transport-security': 'max-age=15552000; includeSubDomains', 'x-download-options': 'noopen', 'x-content-type-options': 'nosniff', 'x-xss-protection': '1; mode=block', 'content-language': 'en', 'etag': 'W/\"55b-jEIUyvQphH/gM3DVlQl2pEdoLeo\"', 'vary': 'Accept-Encoding', 'last-modified': 'Mon, 02 May 2022 17:25:47 GMT', 'x-cache-status': 'HIT', 'x-frame-options': 'SAMEORIGIN', 'access-control-allow-origin': '*', 'access-control-allow-credentials': 'true', 'access-control-allow-methods': 'GET, POST, OPTIONS', 'access-control-allow-headers': 'DNT,X-CustomHeader,Keep-Alive,User-Agent,X-Requested-With,If-Modified-Since,Cache-Control,Content-Type', 'x-cache-key': 'GET/api/data?drilldowns=Nation&measures=Population', 'Cache-Control': 'max-age=1800', 'CF-Cache-Status': 'HIT', 'Age': '43924', 'Expect-CT': 'max-age=604800, report-uri=\"https://report-uri.cloudflare.com/cdn-cgi/beacon/expect-ct\"', 'Report-To': '{\"endpoints\":[{\"url\":\"https:\\\\/\\\\/a.nel.cloudflare.com\\\\/report\\\\/v3?s=XqXhm8kkx%2BWYH2orleL0Ojig3KPt85x8bUUBZRze9U1vHufwlNdeAJfnM%2BzMRE6sOw34lTsqpd4WsWNqCT7PpcpEuWmEB9dU%2FDYthAwBCAu9V8qmR8aU0%2BrzgOo%3D\"}],\"group\":\"cf-nel\",\"max_age\":604800}', 'NEL': '{\"success_fraction\":0,\"report_to\":\"cf-nel\",\"max_age\":604800}', 'Server': 'cloudflare', 'CF-RAY': '7229a680dfb83613-MAN', 'Content-Encoding': 'br'}"
      ]
     },
     "execution_count": 35,
     "metadata": {},
     "output_type": "execute_result"
    }
   ],
   "source": [
    "# Retrieve headers.\n",
    "pop.headers"
   ]
  },
  {
   "cell_type": "code",
   "execution_count": 36,
   "id": "5e277241",
   "metadata": {},
   "outputs": [
    {
     "name": "stdout",
     "output_type": "stream",
     "text": [
      "<class 'dict'>\n",
      "{'data': [{'ID Nation': '01000US', 'Nation': 'United States', 'ID Year': 2019, 'Year': '2019', 'Population': 328239523, 'Slug Nation': 'united-states'}, {'ID Nation': '01000US', 'Nation': 'United States', 'ID Year': 2018, 'Year': '2018', 'Population': 327167439, 'Slug Nation': 'united-states'}, {'ID Nation': '01000US', 'Nation': 'United States', 'ID Year': 2017, 'Year': '2017', 'Population': 325719178, 'Slug Nation': 'united-states'}, {'ID Nation': '01000US', 'Nation': 'United States', 'ID Year': 2016, 'Year': '2016', 'Population': 323127515, 'Slug Nation': 'united-states'}, {'ID Nation': '01000US', 'Nation': 'United States', 'ID Year': 2015, 'Year': '2015', 'Population': 321418821, 'Slug Nation': 'united-states'}, {'ID Nation': '01000US', 'Nation': 'United States', 'ID Year': 2014, 'Year': '2014', 'Population': 318857056, 'Slug Nation': 'united-states'}, {'ID Nation': '01000US', 'Nation': 'United States', 'ID Year': 2013, 'Year': '2013', 'Population': 316128839, 'Slug Nation': 'united-states'}], 'source': [{'measures': ['Population'], 'annotations': {'source_name': 'Census Bureau', 'source_description': 'The American Community Survey (ACS) is conducted by the US Census and sent to a portion of the population every year.', 'dataset_name': 'ACS 1-year Estimate', 'dataset_link': 'http://www.census.gov/programs-surveys/acs/', 'table_id': 'B01003', 'topic': 'Diversity', 'subtopic': 'Demographics'}, 'name': 'acs_yg_total_population_1', 'substitutions': []}]}\n"
     ]
    }
   ],
   "source": [
    "# Parse JSON data with loads().\n",
    "pop_content = json.loads(pop.text)\n",
    "\n",
    "# View the content.\n",
    "print(type(pop_content))\n",
    "print(pop_content)"
   ]
  },
  {
   "cell_type": "code",
   "execution_count": 37,
   "id": "7474e967",
   "metadata": {},
   "outputs": [
    {
     "name": "stdout",
     "output_type": "stream",
     "text": [
      "{\n",
      "    \"data\": [\n",
      "        {\n",
      "            \"ID Nation\": \"01000US\",\n",
      "            \"Nation\": \"United States\",\n",
      "            \"ID Year\": 2019,\n",
      "            \"Year\": \"2019\",\n",
      "            \"Population\": 328239523,\n",
      "            \"Slug Nation\": \"united-states\"\n",
      "        },\n",
      "        {\n",
      "            \"ID Nation\": \"01000US\",\n",
      "            \"Nation\": \"United States\",\n",
      "            \"ID Year\": 2018,\n",
      "            \"Year\": \"2018\",\n",
      "            \"Population\": 327167439,\n",
      "            \"Slug Nation\": \"united-states\"\n",
      "        },\n",
      "        {\n",
      "            \"ID Nation\": \"01000US\",\n",
      "            \"Nation\": \"United States\",\n",
      "            \"ID Year\": 2017,\n",
      "            \"Year\": \"2017\",\n",
      "            \"Population\": 325719178,\n",
      "            \"Slug Nation\": \"united-states\"\n",
      "        },\n",
      "        {\n",
      "            \"ID Nation\": \"01000US\",\n",
      "            \"Nation\": \"United States\",\n",
      "            \"ID Year\": 2016,\n",
      "            \"Year\": \"2016\",\n",
      "            \"Population\": 323127515,\n",
      "            \"Slug Nation\": \"united-states\"\n",
      "        },\n",
      "        {\n",
      "            \"ID Nation\": \"01000US\",\n",
      "            \"Nation\": \"United States\",\n",
      "            \"ID Year\": 2015,\n",
      "            \"Year\": \"2015\",\n",
      "            \"Population\": 321418821,\n",
      "            \"Slug Nation\": \"united-states\"\n",
      "        },\n",
      "        {\n",
      "            \"ID Nation\": \"01000US\",\n",
      "            \"Nation\": \"United States\",\n",
      "            \"ID Year\": 2014,\n",
      "            \"Year\": \"2014\",\n",
      "            \"Population\": 318857056,\n",
      "            \"Slug Nation\": \"united-states\"\n",
      "        },\n",
      "        {\n",
      "            \"ID Nation\": \"01000US\",\n",
      "            \"Nation\": \"United States\",\n",
      "            \"ID Year\": 2013,\n",
      "            \"Year\": \"2013\",\n",
      "            \"Population\": 316128839,\n",
      "            \"Slug Nation\": \"united-states\"\n",
      "        }\n",
      "    ],\n",
      "    \"source\": [\n",
      "        {\n",
      "            \"measures\": [\n",
      "                \"Population\"\n",
      "            ],\n",
      "            \"annotations\": {\n",
      "                \"source_name\": \"Census Bureau\",\n",
      "                \"source_description\": \"The American Community Survey (ACS) is conducted by the US Census and sent to a portion of the population every year.\",\n",
      "                \"dataset_name\": \"ACS 1-year Estimate\",\n",
      "                \"dataset_link\": \"http://www.census.gov/programs-surveys/acs/\",\n",
      "                \"table_id\": \"B01003\",\n",
      "                \"topic\": \"Diversity\",\n",
      "                \"subtopic\": \"Demographics\"\n",
      "            },\n",
      "            \"name\": \"acs_yg_total_population_1\",\n",
      "            \"substitutions\": []\n",
      "        }\n",
      "    ]\n",
      "}\n"
     ]
    }
   ],
   "source": [
    "# Formatting JSON.\n",
    "print(json.dumps(pop_content, indent=4))"
   ]
  },
  {
   "cell_type": "code",
   "execution_count": null,
   "id": "9f1ecdc6",
   "metadata": {},
   "outputs": [],
   "source": []
  }
 ],
 "metadata": {
  "kernelspec": {
   "display_name": "Python 3 (ipykernel)",
   "language": "python",
   "name": "python3"
  },
  "language_info": {
   "codemirror_mode": {
    "name": "ipython",
    "version": 3
   },
   "file_extension": ".py",
   "mimetype": "text/x-python",
   "name": "python",
   "nbconvert_exporter": "python",
   "pygments_lexer": "ipython3",
   "version": "3.9.7"
  }
 },
 "nbformat": 4,
 "nbformat_minor": 5
}
